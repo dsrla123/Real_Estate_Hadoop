{
 "cells": [
  {
   "cell_type": "code",
   "execution_count": 4,
   "id": "95fa308f-e2b9-49e7-b81a-f3bfe1f416e2",
   "metadata": {
    "tags": []
   },
   "outputs": [],
   "source": [
    "import findspark\n",
    "findspark.init(\"/usr/local/lib/spark-3.3.2-bin-hadoop3\")"
   ]
  },
  {
   "cell_type": "code",
   "execution_count": 23,
   "id": "e36cdfb0-fa16-4ca7-a4e7-d4c207f78c6b",
   "metadata": {
    "tags": []
   },
   "outputs": [
    {
     "name": "stdout",
     "output_type": "stream",
     "text": [
      "23/03/02 04:24:56 WARN Client: Neither spark.yarn.jars nor spark.yarn.archive is set, falling back to uploading libraries under SPARK_HOME.\n"
     ]
    }
   ],
   "source": [
    "from pyspark import SparkContext, SparkConf\n",
    "\n",
    "sconf = SparkConf()\n",
    "sconf.setAppName(\"Jupyter_Notebook\").setSparkHome(\"/usr/local/lib/spark-3.3.2-bin-hadoop3\").setMaster(\"yarn\").setExecutorEnv(\"cluster\")\n",
    "sc = SparkContext(conf=sconf)"
   ]
  },
  {
   "cell_type": "code",
   "execution_count": 27,
   "id": "51f49a1b-d392-4dcd-b023-09489bc227b0",
   "metadata": {},
   "outputs": [],
   "source": [
    "sc.stop()"
   ]
  },
  {
   "cell_type": "code",
   "execution_count": 24,
   "id": "56c57881-be3a-4f42-8e05-05711f1ba675",
   "metadata": {
    "tags": []
   },
   "outputs": [],
   "source": [
    "from pyspark.sql import SparkSession\n",
    "\n",
    "hc = SparkSession.builder.appName(\"PySpark_Hive_Session\").enableHiveSupport().getOrCreate()"
   ]
  },
  {
   "cell_type": "code",
   "execution_count": 26,
   "id": "b4a39122-8838-4b04-8f33-b43ebe564f81",
   "metadata": {
    "tags": []
   },
   "outputs": [
    {
     "name": "stdout",
     "output_type": "stream",
     "text": [
      "+---------+-----+\n",
      "|deal_date|count|\n",
      "+---------+-----+\n",
      "| 20130108|  173|\n",
      "| 20130109|  173|\n",
      "| 20130110|  215|\n",
      "| 20130112|  206|\n",
      "| 20130111|  196|\n",
      "| 20130107|  167|\n",
      "| 20130105|  200|\n",
      "| 20130104|  100|\n",
      "| 20130113|   56|\n",
      "| 20130101|   27|\n",
      "| 20130106|   32|\n",
      "| 20130103|  126|\n",
      "| 20130102|  107|\n",
      "+---------+-----+\n",
      "\n"
     ]
    }
   ],
   "source": [
    "trade_df = hc.sql(\"SELECT * FROM real_estate.trade;\")\n",
    "\n",
    "count_grouped_date_df = trade_df.groupBy(\"deal_date\").count()\n",
    "count_grouped_date_df.show()"
   ]
  },
  {
   "cell_type": "code",
   "execution_count": null,
   "id": "d3a5a9e6-002c-493a-b0d9-e98a6a4df469",
   "metadata": {},
   "outputs": [],
   "source": []
  }
 ],
 "metadata": {
  "kernelspec": {
   "display_name": "Python 3 (ipykernel)",
   "language": "python",
   "name": "python3"
  },
  "language_info": {
   "codemirror_mode": {
    "name": "ipython",
    "version": 3
   },
   "file_extension": ".py",
   "mimetype": "text/x-python",
   "name": "python",
   "nbconvert_exporter": "python",
   "pygments_lexer": "ipython3",
   "version": "3.9.5"
  }
 },
 "nbformat": 4,
 "nbformat_minor": 5
}
